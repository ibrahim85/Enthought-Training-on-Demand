{
 "metadata": {
  "canopy_exercise": {
   "__metadata_version__": 1
  },
  "name": "great_circle.ipynb"
 },
 "nbformat": 3,
 "nbformat_minor": 0,
 "worksheets": [
  {
   "cells": [
    {
     "cell_type": "markdown",
     "metadata": {
      "canopy_exercise": {
       "cell_type": "question"
      }
     },
     "source": [
      "Great Circle Exercise\n",
      "=====================\n",
      "\n",
      "The shortest distance between two points on the globe, assuming it is perfectly spherical, is the length of the  _great circle_ path.  If you are given two locations in latitude and longitude, then the [Haversine Formula](http://en.wikipedia.org/wiki/Haversine_formula) gives this shortest distance in a numerically stable way:\n",
      "\n",
      "$a = \\sin^{2}(\\Delta \\phi/2) + \\cos(\\phi_{1})\\cos(\\phi_{2})\\sin^{2}(\\Delta \\lambda/2)$\n",
      "\n",
      "$c = 2 \\arcsin(\\sqrt{a})$\n",
      "\n",
      "$d = rc$\n",
      "\n",
      "Where $\\phi_{i}$ is latitude and $\\lambda_{i}$ is the longitude of point $i$ and $r$ is the radius of the globe.\n",
      "\n",
      "Question 1\n",
      "----------\n",
      "\n",
      "Write a function that takes as inputs a `radius` and two points specified by tuples of `(latitude, longitude)` and returns the distance between the points along a great circle."
     ]
    },
    {
     "cell_type": "code",
     "collapsed": false,
     "input": [
      "from math import sin, cos, asin, radians    "
     ],
     "language": "python",
     "metadata": {
      "canopy_exercise": {
       "cell_type": "starting code"
      }
     },
     "outputs": []
    },
    {
     "cell_type": "markdown",
     "metadata": {
      "canopy_exercise": {
       "cell_type": "hint_button"
      }
     },
     "source": [
      "<div class=\"btn-group\"><button class=\"btn\" onclick=\"IPython.canopy_exercise.toggle_hint('2')\">Hint</button></div>"
     ]
    },
    {
     "cell_type": "markdown",
     "metadata": {
      "canopy_exercise": {
       "cell_type": "hint_view",
       "hint_number": "2"
      }
     },
     "source": [
      "Remember to convert your angles to radians."
     ]
    },
    {
     "cell_type": "code",
     "collapsed": true,
     "input": [
      "# your code goes here"
     ],
     "language": "python",
     "metadata": {
      "canopy_exercise": {
       "cell_type": "student_solution"
      }
     },
     "outputs": []
    },
    {
     "cell_type": "markdown",
     "metadata": {
      "canopy_exercise": {
       "cell_type": "solution_button"
      }
     },
     "source": [
      "<div class=\"btn-group\"><button class=\"btn\" onclick=\"IPython.canopy_exercise.toggle_solution('3')\">Solution</button></div>"
     ]
    },
    {
     "cell_type": "code",
     "collapsed": false,
     "input": [
      "def haversine_formula(r, p1, p2):\n",
      "    # unpack points\n",
      "    phi_1, lambda_1 = p1\n",
      "    phi_2, lambda_2 = p2\n",
      "    \n",
      "    # convert to radians\n",
      "    phi_1 = radians(phi_1)\n",
      "    phi_2 = radians(phi_2)\n",
      "    lambda_1 = radians(lambda_1)\n",
      "    lambda_2 = radians(lambda_2)\n",
      "    \n",
      "    # compute haversine formula\n",
      "    a = sin((phi_1-phi_2)/2)**2 + cos(phi_1)*cos(phi_2)*sin((lambda_1-lambda_2)/2.0)**2\n",
      "    c = 2*asin(a**0.5)\n",
      "    return r*c"
     ],
     "language": "python",
     "metadata": {
      "canopy_exercise": {
       "cell_type": "solution_view",
       "solution_number": "3"
      }
     },
     "outputs": []
    },
    {
     "cell_type": "code",
     "collapsed": false,
     "input": [
      "# test your answer: should be roughly 7895 km\n",
      "r_earth = 6371.0 # km\n",
      "austin = (30.2500, -97.7500)\n",
      "cambridge = (52.2050, 0.1190)\n",
      "\n",
      "print round(haversine_formula(r_earth, austin, cambridge))"
     ],
     "language": "python",
     "metadata": {
      "canopy_exercise": {
       "cell_type": "starting code"
      }
     },
     "outputs": []
    },
    {
     "cell_type": "markdown",
     "metadata": {
      "canopy_exercise": {
       "cell_type": "question"
      }
     },
     "source": [
      "Question 2\n",
      "----------\n",
      "\n",
      "Given the list of cities from the \"Flight Distances\" exercise, and their latitude and longitudes:"
     ]
    },
    {
     "cell_type": "code",
     "collapsed": false,
     "input": [
      "cities = {\n",
      "    'Atlanta': (33.7569444444, -84.3902777778),\n",
      "    'Austin': (30.3, -97.7333333333),\n",
      "    'Boston': (42.3577777778, -71.0616666667),\n",
      "    'Chicago': (41.9, -87.65),\n",
      "    'Dallas': (32.7825, -96.7975),\n",
      "    'Denver': (39.7391666667, -104.984722222),\n",
      "    'Houston': (29.7627777778, -95.3830555556),\n",
      "    'Los Angeles': (34.05, -118.25),\n",
      "    'Miami': (25.7833333333, -80.2166666667),\n",
      "    'New York': (40.67, -73.94),\n",
      "    'San Francisco': (37.7666666667, -122.433333333),\n",
      "    'Seattle': (47.6, -122.316666667),\n",
      "}"
     ],
     "language": "python",
     "metadata": {
      "canopy_exercise": {
       "cell_type": "starting code"
      }
     },
     "outputs": []
    },
    {
     "cell_type": "markdown",
     "metadata": {
      "canopy_exercise": {
       "cell_type": "question"
      }
     },
     "source": [
      "write a function that, given a dictionary of city names and locations, plus the names of two cities, returns the great circle distance between the two cities.  The result should be rounded to the nearest 10 km.\n",
      "\n",
      "    def city_distance(cities, city_1, city_2):\n",
      "        ..."
     ]
    },
    {
     "cell_type": "markdown",
     "metadata": {
      "canopy_exercise": {
       "cell_type": "hint_button"
      }
     },
     "source": [
      "<div class=\"btn-group\"><button class=\"btn\" onclick=\"IPython.canopy_exercise.toggle_hint('7')\">Hint</button></div>"
     ]
    },
    {
     "cell_type": "markdown",
     "metadata": {
      "canopy_exercise": {
       "cell_type": "hint_view",
       "hint_number": "7"
      }
     },
     "source": [
      "The built-in `round()` function takes an optional second argument for the number of digits of precision.  This argument can be negative."
     ]
    },
    {
     "cell_type": "code",
     "collapsed": true,
     "input": [
      "# your code goes here"
     ],
     "language": "python",
     "metadata": {
      "canopy_exercise": {
       "cell_type": "student_solution"
      }
     },
     "outputs": []
    },
    {
     "cell_type": "markdown",
     "metadata": {
      "canopy_exercise": {
       "cell_type": "solution_button"
      }
     },
     "source": [
      "<div class=\"btn-group\"><button class=\"btn\" onclick=\"IPython.canopy_exercise.toggle_solution('8')\">Solution</button></div>"
     ]
    },
    {
     "cell_type": "code",
     "collapsed": false,
     "input": [
      "def city_distance(cities, city_1, city_2):\n",
      "    r_earth = 6371.0 # km\n",
      "    distance = haversine_formula(r_earth, cities[city_1], cities[city_2])\n",
      "    return round(distance, -1)"
     ],
     "language": "python",
     "metadata": {
      "canopy_exercise": {
       "cell_type": "solution_view",
       "solution_number": "8"
      }
     },
     "outputs": []
    },
    {
     "cell_type": "code",
     "collapsed": false,
     "input": [
      "print city_distance(cities, \"Austin\", \"San Francisco\")"
     ],
     "language": "python",
     "metadata": {
      "canopy_exercise": {
       "cell_type": "starting code"
      }
     },
     "outputs": []
    },
    {
     "cell_type": "markdown",
     "metadata": {
      "canopy_exercise": {
       "cell_type": "question"
      }
     },
     "source": [
      "Question 3\n",
      "----------\n",
      "\n",
      "Write a function that, given a set of cities returns a dictionary whose keys are pairs of cities and whose values are the distances between them.  You should use an appropriate data structure for the keys, and round distances to the nearest 10 km.\n",
      "\n",
      "    def compute_distances(cities):\n",
      "        ...\n",
      "\n",
      "Bonus points if you compute the distance for a given pair of cities only once."
     ]
    },
    {
     "cell_type": "markdown",
     "metadata": {
      "canopy_exercise": {
       "cell_type": "hint_button"
      }
     },
     "source": [
      "<div class=\"btn-group\"><button class=\"btn\" onclick=\"IPython.canopy_exercise.toggle_hint('10')\">Hint</button></div>"
     ]
    },
    {
     "cell_type": "markdown",
     "metadata": {
      "canopy_exercise": {
       "cell_type": "hint_view",
       "hint_number": "10"
      }
     },
     "source": [
      "Have a look at the `flight_distances` exercise in the Frozenset lecture for a possible data structure."
     ]
    },
    {
     "cell_type": "code",
     "collapsed": true,
     "input": [
      "# your code goes here"
     ],
     "language": "python",
     "metadata": {
      "canopy_exercise": {
       "cell_type": "student_solution"
      }
     },
     "outputs": []
    },
    {
     "cell_type": "markdown",
     "metadata": {
      "canopy_exercise": {
       "cell_type": "solution_button"
      }
     },
     "source": [
      "<div class=\"btn-group\"><button class=\"btn\" onclick=\"IPython.canopy_exercise.toggle_solution('11')\">Solution</button></div>"
     ]
    },
    {
     "cell_type": "code",
     "collapsed": false,
     "input": [
      "def compute_distances(cities):\n",
      "    r_earth = 6371.0 # km\n",
      "    \n",
      "    distances = {}\n",
      "    # create a set so we can track visited cities\n",
      "    # tracking this is optional, but otherwise we will double the computations\n",
      "    unvisited = set(cities)\n",
      "    for city_1 in cities:\n",
      "        # remove city_1 from cities to visit\n",
      "        unvisited.remove(city_1)\n",
      "        \n",
      "        location_1 = cities[city_1]\n",
      "        for city_2 in unvisited:\n",
      "            location_2 = cities[city_2]\n",
      "            distance = haversine_formula(r_earth, location_1, location_2)\n",
      "            distances[frozenset((city_1, city_2))] = round(distance, -1)\n",
      "            \n",
      "    return distances"
     ],
     "language": "python",
     "metadata": {
      "canopy_exercise": {
       "cell_type": "solution_view",
       "solution_number": "11"
      }
     },
     "outputs": []
    },
    {
     "cell_type": "code",
     "collapsed": false,
     "input": [
      "compute_distances(cities)"
     ],
     "language": "python",
     "metadata": {
      "canopy_exercise": {
       "cell_type": "starting code"
      }
     },
     "outputs": []
    }
   ],
   "metadata": {}
  }
 ]
}