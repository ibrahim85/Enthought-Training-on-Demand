{
 "metadata": {
  "canopy_exercise": {
   "__metadata_version__": 1
  },
  "name": "prime_numbers.ipynb"
 },
 "nbformat": 3,
 "nbformat_minor": 0,
 "worksheets": [
  {
   "cells": [
    {
     "cell_type": "markdown",
     "metadata": {
      "canopy_exercise": {
       "cell_type": "question"
      }
     },
     "source": [
      "Prime Numbers\n",
      "=============\n",
      "\n",
      "Background\n",
      "----------\n",
      "\n",
      "A [prime number](http://en.wikipedia.org/wiki/Prime_number) is a number that has no divisors other than 1 and itself. For example, 4 is not a prime number because it can be evenly divided by 2 (4 divided by 2 is an integer, 2), while 5 is a prime number because it cannot be divided by 2, 3, or 4.\n",
      "\n",
      "A classic algorithm to find primes is the [Sieve of Eratosthenes](http://en.wikipedia.org/wiki/Sieve_of_Eratosthenes).\n",
      "Prime numbers have various interesting applications, including cryptography, for example in the widely used \n",
      "[RSA encryption](http://en.wikipedia.org/wiki/RSA_%28cryptosystem%29) algorithm.\n",
      "\n",
      "The goal of this short exercise is to get toward a reasonably efficient way to collect all prime numbers that are below one million.\n",
      "The exercise will get you to experiment with nested `for` loops, both breaking out of them, as well as the `for-else` construct, a pattern that is a little more advanced than the basic `for` loop but that is very convenient in certain situations.\n",
      "\n",
      "To efficiently check very many numbers for being prime, we will want to be a little clever in how many tests we do. For example, when we are testing if 5 is prime, we can actually skip testing if it is divisible by 4. Since 4 is not a prime number, as it equals 2 times 2, if 4 is a divisor then 2 must be as well. So if we have already checked for divisibility by 2, then we can skip checking for divisibility by 4.\n",
      "In fact, we really only need to test for division by prime numbers. More optimizations than this are possible as well.\n",
      "\n",
      "Question 1\n",
      "----------\n",
      "\n",
      "For the first step, let's write some code to test if a single number, say 79, is a prime number."
     ]
    },
    {
     "cell_type": "markdown",
     "metadata": {
      "canopy_exercise": {
       "cell_type": "hint_button"
      }
     },
     "source": [
      "<div class=\"btn-group\"><button class=\"btn\" onclick=\"IPython.canopy_exercise.toggle_hint('1')\">Hint</button></div>"
     ]
    },
    {
     "cell_type": "markdown",
     "metadata": {
      "canopy_exercise": {
       "cell_type": "hint_view",
       "hint_number": "1"
      }
     },
     "source": [
      "If you don't know where to start, try to encode the reasoning we followed above for testing if 5 was a prime number. Also remember that `x % y` equals 0 if `y` evenly divides `x`. Finally, the `for-else` pattern can be useful here to detect that we have tried unsuccessfully to divide 79 by all possible divisor candidates."
     ]
    },
    {
     "cell_type": "code",
     "collapsed": true,
     "input": [
      "# your code goes here"
     ],
     "language": "python",
     "metadata": {
      "canopy_exercise": {
       "cell_type": "student_solution"
      }
     },
     "outputs": []
    },
    {
     "cell_type": "markdown",
     "metadata": {
      "canopy_exercise": {
       "cell_type": "solution_button"
      }
     },
     "source": [
      "<div class=\"btn-group\"><button class=\"btn\" onclick=\"IPython.canopy_exercise.toggle_solution('2')\">Solution</button></div>"
     ]
    },
    {
     "cell_type": "code",
     "collapsed": false,
     "input": [
      "x = 79\n",
      "for n in range(2, x):\n",
      "    if x % n == 0:\n",
      "        print x, \"is not a prime number\"\n",
      "        break\n",
      "else:\n",
      "    # By definition of for-else, if we are here it means that we never broke out of the for \n",
      "    # loop above. That means that we found a prime number.\n",
      "    print x, \"is a prime number\""
     ],
     "language": "python",
     "metadata": {
      "canopy_exercise": {
       "cell_type": "solution_view",
       "solution_number": "2"
      }
     },
     "outputs": []
    },
    {
     "cell_type": "markdown",
     "metadata": {
      "canopy_exercise": {
       "cell_type": "question"
      }
     },
     "source": [
      "Question 2\n",
      "----------\n",
      "\n",
      "Reuse the code above to create a list containing all prime numbers less than `max_n=100`.  Print the length of the list."
     ]
    },
    {
     "cell_type": "code",
     "collapsed": true,
     "input": [
      "# your code goes here"
     ],
     "language": "python",
     "metadata": {
      "canopy_exercise": {
       "cell_type": "student_solution"
      }
     },
     "outputs": []
    },
    {
     "cell_type": "markdown",
     "metadata": {
      "canopy_exercise": {
       "cell_type": "solution_button"
      }
     },
     "source": [
      "<div class=\"btn-group\"><button class=\"btn\" onclick=\"IPython.canopy_exercise.toggle_solution('3')\">Solution</button></div>"
     ]
    },
    {
     "cell_type": "code",
     "collapsed": false,
     "input": [
      "# The strategy here is to loop over all the numbers below max_n, and test for each of them \n",
      "# if they are prime numbers. We can therefore just encapsulate our previous for loop into \n",
      "# another one for all numbers below 100.\n",
      "\n",
      "max_n = 100\n",
      "\n",
      "# Since we will want to collect all the prime numbers, we will replace the above\n",
      "# print by an append to a list containing the primes.\n",
      "primes = []\n",
      "\n",
      "for n in range(2, max_n):\n",
      "    # Most efficient to check dividing by prime factors, but p in range(2, n) also works fine.\n",
      "    for p in primes:\n",
      "        if n % p == 0:\n",
      "            break\n",
      "    else:\n",
      "        # By definition of for-else, if we get here it means that we never broke out of the for \n",
      "        # loop above. That means that we found a prime number.\n",
      "        primes.append(n)\n",
      "\n",
      "print \"There are {0} primes less than {1}\".format(len(primes), max_n)"
     ],
     "language": "python",
     "metadata": {
      "canopy_exercise": {
       "cell_type": "solution_view",
       "solution_number": "3"
      }
     },
     "outputs": []
    },
    {
     "cell_type": "markdown",
     "metadata": {
      "canopy_exercise": {
       "cell_type": "question"
      }
     },
     "source": [
      "Bonus\n",
      "-----\n",
      "\n",
      "In Python, `for` loops are slower than in C or Fortran, especially for very large numbers of items. For most common operations, where the number of items in the loop is modest, Python is fast enough. But if you deal with a very long list of objects, and especially if you use nested loops, like in our algorithm above, the looping can become quite slow. \n",
      "\n",
      "To observe this, run the code above with increasing `max_n`, up to 1000, 10000, or even higher if you are patient, and notice how the execution time goes from instantaneous to many seconds.\n",
      "\n",
      "One of the main reasons that loops can be slow, is that Python can have arbitrary types of objects in a list, which makes some optimizations difficult to apply. This is one of the main reasons for the existence of the [Numpy](http://www.numpy.org/) module and tools like [Cython](http://www.cython.org/) that we will cover later in other courses. \n",
      "\n",
      "If we want to find all the primes less than 1000000, we will need to be careful about our algorithm, and avoid too much looping. Think about some ways to skip some of the values in our nested loops above. For help, have a look to http://en.wikipedia.org/wiki/Prime_number or open the hint below."
     ]
    },
    {
     "cell_type": "markdown",
     "metadata": {
      "canopy_exercise": {
       "cell_type": "hint_button"
      }
     },
     "source": [
      "<div class=\"btn-group\"><button class=\"btn\" onclick=\"IPython.canopy_exercise.toggle_hint('5')\">Hint</button></div>"
     ]
    },
    {
     "cell_type": "markdown",
     "metadata": {
      "canopy_exercise": {
       "cell_type": "hint_view",
       "hint_number": "5"
      }
     },
     "source": [
      "There are a couple of simple optimizations that we can use.\n",
      "\n",
      "First, since all prime numbers except 2 are odd, we can start by taking 2 as prime and then only checking odd numbers starting with 3.\n",
      "\n",
      "Second, we only actually need to check for prime factors up to, and including, the square root of the number we are testing. If the test number is divisible by something larger than the square root, then the resulting quotient must be less than the square root, and we would find that as a divisor first. This is an especially important optimization for large numbers."
     ]
    },
    {
     "cell_type": "code",
     "collapsed": true,
     "input": [
      "# your code goes here"
     ],
     "language": "python",
     "metadata": {
      "canopy_exercise": {
       "cell_type": "student_solution"
      }
     },
     "outputs": []
    },
    {
     "cell_type": "markdown",
     "metadata": {
      "canopy_exercise": {
       "cell_type": "solution_button"
      }
     },
     "source": [
      "<div class=\"btn-group\"><button class=\"btn\" onclick=\"IPython.canopy_exercise.toggle_solution('5')\">Solution</button></div>"
     ]
    },
    {
     "cell_type": "code",
     "collapsed": false,
     "input": [
      "max_n = 1000000\n",
      "\n",
      "# start with 2\n",
      "primes = [2]\n",
      "\n",
      "# only test odd numbers\n",
      "for n in range(3, max_n, 2):\n",
      "    # only check primes up to n**0.5\n",
      "    max_p = int(n**0.5)\n",
      "    for p in primes:\n",
      "        if n % p == 0:\n",
      "            break\n",
      "        elif p > max_p:\n",
      "            primes.append(n)\n",
      "            break\n",
      "\n",
      "print \"There are {0} primes less than {1}\".format(len(primes), max_n)"
     ],
     "language": "python",
     "metadata": {
      "canopy_exercise": {
       "cell_type": "solution_view",
       "solution_number": "5"
      }
     },
     "outputs": []
    }
   ],
   "metadata": {}
  }
 ]
}