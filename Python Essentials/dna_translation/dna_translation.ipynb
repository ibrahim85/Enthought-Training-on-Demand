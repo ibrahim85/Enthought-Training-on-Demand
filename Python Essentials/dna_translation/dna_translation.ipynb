{
 "metadata": {
  "canopy_exercise": {
   "__metadata_version__": 1
  },
  "name": "dna_translation.ipynb"
 },
 "nbformat": 3,
 "nbformat_minor": 0,
 "worksheets": [
  {
   "cells": [
    {
     "cell_type": "markdown",
     "metadata": {
      "canopy_exercise": {
       "cell_type": "question"
      }
     },
     "source": [
      "DNA Translation\n",
      "===============\n",
      "\n",
      "If you haven't done the \"DNA String\" or the \"DNA Dictionary\" exercises yet,\n",
      "you probably should do those exercises before attempting this one.\n",
      "\n",
      "Sequences of DNA are frequently represented by strings of letters corresponding\n",
      "to the bases:\n",
      "\n",
      "    \"A\" is adenine\n",
      "    \"C\" is cytosine\n",
      "    \"G\" is guanine\n",
      "    \"T\" is thymine\n",
      "\n",
      "A gene encodes a protein by specifying the amino acids that compose it via\n",
      "groups of 3 bases (called \"codons\").  Each codon corresponds to an amino acid,\n",
      "or a special \"start\" or \"stop\" sequence.\n",
      "\n",
      "In the usual genetic code the sequence \"ATG\" indicates the start of the\n",
      "encoding of the protein (and also encodes the amino acid methionine). \n",
      "The start codon is not necessarily a multiple of 3 bases into the DNA\n",
      "sequence. The three codons \"TAA\", \"TAG\" and \"TGA\" are stop codons and \n",
      "indicate that the protein is finished.\n",
      "\n",
      "In the code below there is a dictionary ``codon_table`` that maps codons to\n",
      "their corresponding amino acid abbreviations."
     ]
    },
    {
     "cell_type": "code",
     "collapsed": false,
     "input": [
      "codon_table = {\n",
      "    'TTT': 'F', 'TTC': 'F', 'TTA': 'L', 'TTG': 'L',\n",
      "    'TCT': 'S', 'TCC': 'S', 'TCA': 'S', 'TCG': 'S',\n",
      "    'TAT': 'Y', 'TAC': 'Y', 'TAA': '*', 'TAG': '*',\n",
      "    'TGT': 'C', 'TGC': 'C', 'TGA': '*', 'TGG': 'W',\n",
      "\n",
      "    'CTT': 'L', 'CTC': 'L', 'CTA': 'L', 'CTG': 'L',\n",
      "    'CCT': 'P', 'CCC': 'P', 'CCA': 'P', 'CCG': 'P',\n",
      "    'CAT': 'H', 'CAC': 'H', 'CAA': 'Q', 'CAG': 'Q',\n",
      "    'CGT': 'R', 'CGC': 'R', 'CGA': 'R', 'CGG': 'R',\n",
      "\n",
      "    'ATT': 'I', 'ATC': 'I', 'ATA': 'I', 'ATG': 'M',\n",
      "    'ACT': 'T', 'ACC': 'T', 'ACA': 'T', 'ACG': 'T',\n",
      "    'AAT': 'N', 'AAC': 'N', 'AAA': 'K', 'AAG': 'K',\n",
      "    'AGT': 'S', 'AGC': 'S', 'AGA': 'R', 'AGG': 'R',\n",
      "\n",
      "    'GTT': 'V', 'GTC': 'V', 'GTA': 'V', 'GTG': 'V',\n",
      "    'GCT': 'A', 'GCC': 'A', 'GCA': 'A', 'GCG': 'A',\n",
      "    'GAT': 'D', 'GAC': 'D', 'GAA': 'E', 'GAG': 'E',\n",
      "    'GGT': 'G', 'GGC': 'G', 'GGA': 'G', 'GGG': 'G',\n",
      "}"
     ],
     "language": "python",
     "metadata": {
      "canopy_exercise": {
       "cell_type": "starting code"
      }
     },
     "outputs": []
    },
    {
     "cell_type": "markdown",
     "metadata": {
      "canopy_exercise": {
       "cell_type": "question"
      }
     },
     "source": [
      "In this example, we will look at a genetic sequence from the human genome which\n",
      "encodes the [histone cluster 1, H1b.](http://www.ncbi.nlm.nih.gov/nuccore/NM_005322)"
     ]
    },
    {
     "cell_type": "code",
     "collapsed": false,
     "input": [
      "sequence = (\n",
      "    \"AACCTGCTCTTTAGATTTCGAGCTTATTCTCTTCTAGCAGTTTCTTGCCACCATGTCGGAAACCGCTCCT\" +\n",
      "    \"GCCGAGACAGCCACCCCAGCGCCGGTGGAGAAATCCCCGGCTAAGAAGAAGGCAACTAAGAAGGCTGCCG\" +\n",
      "    \"GCGCCGGCGCTGCTAAGCGCAAAGCGACGGGGCCCCCAGTCTCAGAGCTGATCACCAAGGCTGTGGCTGC\" +\n",
      "    \"TTCTAAGGAGCGCAATGGCCTTTCTTTGGCAGCCCTTAAGAAGGCCTTAGCGGCCGGTGGCTACGACGTG\" +\n",
      "    \"GAGAAGAATAACAGCCGCATTAAGCTGGGCCTCAAGAGCTTGGTGAGCAAGGGCACCCTGGTGCAGACCA\" +\n",
      "    \"AGGGCACTGGTGCTTCTGGCTCCTTTAAACTCAACAAGAAGGCGGCCTCCGGGGAAGCCAAGCCCAAAGC\" +\n",
      "    \"CAAGAAGGCAGGCGCCGCTAAAGCTAAGAAGCCCGCGGGGGCCACGCCTAAGAAGGCCAAGAAGGCTGCA\" +\n",
      "    \"GGGGCGAAAAAGGCAGTGAAGAAGACTCCGAAGAAGGCGAAGAAGCCCGCGGCGGCTGGCGTCAAAAAGG\" +\n",
      "    \"TGGCGAAGAGCCCTAAGAAGGCCAAGGCCGCTGCCAAACCGAAAAAGGCAACCAAGAGTCCTGCCAAGCC\" +\n",
      "    \"CAAGGCAGTTAAGCCGAAGGCGGCAAAGCCCAAAGCCGCTAAGCCCAAAGCAGCAAAACCTAAAGCTGCA\" +\n",
      "    \"AAGGCCAAGAAGGCGGCTGCCAAAAAGAAGTAGGAAGCTGGCGTGTGAAAACCGCAACAAAGCCCCAAAG\" +\n",
      "    \"GCTCTTTTCAGAGCCACCCA\"\n",
      ")"
     ],
     "language": "python",
     "metadata": {
      "canopy_exercise": {
       "cell_type": "starting code"
      }
     },
     "outputs": []
    },
    {
     "cell_type": "markdown",
     "metadata": {
      "canopy_exercise": {
       "cell_type": "question"
      }
     },
     "source": [
      "Question 1\n",
      "----------\n",
      "\n",
      "Write Python code that:\n",
      "\n",
      "a. Finds the first start codon in the sequence (Hint: remember what you did\n",
      "   in the \"DNA String\" exercise).\n",
      "\n",
      "b. Loops over the codons, building a string of the abbreviations of the\n",
      "   protein's amino acids (eg. the protein should start with \"MSETAPA...\")\n",
      "   \n",
      "c. Stops when it reaches a stop codon.\n",
      "\n",
      "d. Prints out the amino acid string."
     ]
    },
    {
     "cell_type": "code",
     "collapsed": true,
     "input": [
      "# your code goes here"
     ],
     "language": "python",
     "metadata": {
      "canopy_exercise": {
       "cell_type": "student_solution"
      }
     },
     "outputs": []
    },
    {
     "cell_type": "markdown",
     "metadata": {
      "canopy_exercise": {
       "cell_type": "solution_button"
      }
     },
     "source": [
      "<div class=\"btn-group\"><button class=\"btn\" onclick=\"IPython.canopy_exercise.toggle_solution('5')\">Solution</button></div>"
     ]
    },
    {
     "cell_type": "code",
     "collapsed": false,
     "input": [
      "location = sequence.find('ATG')\n",
      "\n",
      "amino_acids = \"\"\n",
      "\n",
      "while True:\n",
      "    codon = sequence[location:location + 3]\n",
      "    amino_acid = codon_table[codon]\n",
      "    if amino_acid == '*':\n",
      "        break\n",
      "    amino_acids += amino_acid\n",
      "    location += 3\n",
      "\n",
      "print amino_acids"
     ],
     "language": "python",
     "metadata": {
      "canopy_exercise": {
       "cell_type": "solution_view",
       "solution_number": "5"
      }
     },
     "outputs": []
    },
    {
     "cell_type": "markdown",
     "metadata": {
      "canopy_exercise": {
       "cell_type": "question"
      }
     },
     "source": [
      "Question 2\n",
      "----------\n",
      "\n",
      "Print the number of amino acids in the protein."
     ]
    },
    {
     "cell_type": "code",
     "collapsed": true,
     "input": [
      "# your code goes here"
     ],
     "language": "python",
     "metadata": {
      "canopy_exercise": {
       "cell_type": "student_solution"
      }
     },
     "outputs": []
    },
    {
     "cell_type": "markdown",
     "metadata": {
      "canopy_exercise": {
       "cell_type": "solution_button"
      }
     },
     "source": [
      "<div class=\"btn-group\"><button class=\"btn\" onclick=\"IPython.canopy_exercise.toggle_solution('6')\">Solution</button></div>"
     ]
    },
    {
     "cell_type": "code",
     "collapsed": false,
     "input": [
      "print \"The number of amino acids is\", len(amino_acids)"
     ],
     "language": "python",
     "metadata": {
      "canopy_exercise": {
       "cell_type": "solution_view",
       "solution_number": "6"
      }
     },
     "outputs": []
    },
    {
     "cell_type": "markdown",
     "metadata": {
      "canopy_exercise": {
       "cell_type": "question"
      }
     },
     "source": [
      "Question 3\n",
      "----------\n",
      "\n",
      "There is another dictionary `amino_acid_table` that maps the\n",
      "abbreviations to their full names.  Take the string of the abbreviations of\n",
      "the amino acids and print out, for each amino acid, its full name and\n",
      "whether or not it is used by the protein."
     ]
    },
    {
     "cell_type": "code",
     "collapsed": false,
     "input": [
      "amino_acid_table = {\n",
      "    'A': \"alanine\",\n",
      "    'C': \"cystine\",\n",
      "    'D': \"aspartic acid\",\n",
      "    'E': \"glutamic acid\",\n",
      "    'F': \"phenylalanine\",\n",
      "    'G': \"glycine\",\n",
      "    'H': \"histidine\",\n",
      "    'I': \"isoleucine\",\n",
      "    'K': \"lysine\",\n",
      "    'L': \"leucine\",\n",
      "    'M': \"methionine/start\",\n",
      "    'N': \"asparagine\",\n",
      "    'P': \"proline\",\n",
      "    'Q': \"glutamine\",\n",
      "    'R': \"arginine\",\n",
      "    'S': \"serine\",\n",
      "    'T': \"threonine\",\n",
      "    'V': \"valine\",\n",
      "    'W': \"tryptophan\",\n",
      "    'Y': \"tyrosine\",\n",
      "    '*': \"stop\",\n",
      "}"
     ],
     "language": "python",
     "metadata": {
      "canopy_exercise": {
       "cell_type": "starting code"
      }
     },
     "outputs": []
    },
    {
     "cell_type": "code",
     "collapsed": true,
     "input": [
      "# your code goes here"
     ],
     "language": "python",
     "metadata": {
      "canopy_exercise": {
       "cell_type": "student_solution"
      }
     },
     "outputs": []
    },
    {
     "cell_type": "markdown",
     "metadata": {
      "canopy_exercise": {
       "cell_type": "solution_button"
      }
     },
     "source": [
      "<div class=\"btn-group\"><button class=\"btn\" onclick=\"IPython.canopy_exercise.toggle_solution('8')\">Solution</button></div>"
     ]
    },
    {
     "cell_type": "code",
     "collapsed": false,
     "input": [
      "for code, amino_acid in amino_acid_table.items():\n",
      "    if code in amino_acids:\n",
      "        print amino_acid + \" is in protein\"\n",
      "    else:\n",
      "        print amino_acid + \" is not in protein\""
     ],
     "language": "python",
     "metadata": {
      "canopy_exercise": {
       "cell_type": "solution_view",
       "solution_number": "8"
      }
     },
     "outputs": []
    },
    {
     "cell_type": "markdown",
     "metadata": {
      "canopy_exercise": {
       "cell_type": "question"
      }
     },
     "source": [
      "Bonus\n",
      "-----\n",
      "\n",
      "Because most amino acids have multiple codons which can produce them, there\n",
      "are many different sequences that will potentially produce this protein.\n",
      "Compute how many there are."
     ]
    },
    {
     "cell_type": "code",
     "collapsed": true,
     "input": [
      "# your code goes here"
     ],
     "language": "python",
     "metadata": {
      "canopy_exercise": {
       "cell_type": "student_solution"
      }
     },
     "outputs": []
    },
    {
     "cell_type": "markdown",
     "metadata": {
      "canopy_exercise": {
       "cell_type": "solution_button"
      }
     },
     "source": [
      "<div class=\"btn-group\"><button class=\"btn\" onclick=\"IPython.canopy_exercise.toggle_solution('9')\">Solution</button></div>"
     ]
    },
    {
     "cell_type": "code",
     "collapsed": false,
     "input": [
      "# build a table of amino acid -> number of codons\n",
      "codon_count = {code: 0 for code in amino_acid_table}\n",
      "for codon, amino_acid in codon_table.items():\n",
      "    codon_count[amino_acid] += 1\n",
      "\n",
      "# now for each amino acid, multiply together the choices\n",
      "combinations = 1\n",
      "for amino_acid in amino_acids:\n",
      "    combinations *= codon_count[amino_acid]\n",
      "\n",
      "# aren't you glad Python handles arbitrarily long integer values :)\n",
      "print \"There are {0} different ways of encoding this protein\".format(combinations)\n"
     ],
     "language": "python",
     "metadata": {
      "canopy_exercise": {
       "cell_type": "solution_view",
       "solution_number": "9"
      }
     },
     "outputs": []
    },
    {
     "cell_type": "markdown",
     "metadata": {},
     "source": [
      "Note\n",
      "----\n",
      "\n",
      "If you need to do this sort of bioinformatics manipulation, the \"Biopython\"\n",
      "library does all of these sorts of things and more.\n"
     ]
    }
   ],
   "metadata": {}
  }
 ]
}