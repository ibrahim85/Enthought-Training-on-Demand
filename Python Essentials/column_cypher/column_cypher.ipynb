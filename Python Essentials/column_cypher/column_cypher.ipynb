{
 "metadata": {
  "canopy_exercise": {
   "__metadata_version__": 1
  },
  "name": "column_cypher.ipynb"
 },
 "nbformat": 3,
 "nbformat_minor": 0,
 "worksheets": [
  {
   "cells": [
    {
     "cell_type": "markdown",
     "metadata": {
      "canopy_exercise": {
       "cell_type": "question"
      }
     },
     "source": [
      "Column Cipher\n",
      "=============\n",
      "\n",
      "In cryptography, a [column cipher](http://en.wikipedia.org/wiki/Transposition_cipher), also called \"Columnar transposition\", works by writing the message to encode in rows of a fixed length, and then extracting the content column by column and concatenating them.  So the message `THIS IS A COLUMN CYPHER` with rows of length 5 would be written:\n",
      "\n",
      "    THISI\n",
      "    SACOL\n",
      "    UMNCY\n",
      "    PHERX\n",
      "\n",
      "and then be sent as \"TSUPHAMHICNESOCRILYX\".  Note that you first need to remove spaces and pad the message with extra \"X\" characters to make it a multiple of the number of columns. \n",
      "\n",
      "In this exercise you will encode the message `This message is very secret` with a column cipher with rows of length 3. It is similar in spirit to the Caesar cipher exercise but of higher difficulty so allow some time or keep it for a second pass."
     ]
    },
    {
     "cell_type": "code",
     "collapsed": false,
     "input": [
      "message = \"This message is very secret\""
     ],
     "language": "python",
     "metadata": {
      "canopy_exercise": {
       "cell_type": "starting code"
      }
     },
     "outputs": []
    },
    {
     "cell_type": "markdown",
     "metadata": {
      "canopy_exercise": {
       "cell_type": "question"
      }
     },
     "source": [
      "Question 1\n",
      "----------\n",
      "\n",
      "As mentioned in the introduction, the first pre-processing step is to remove spaces and use all upper-case letters.  Convert the message to this format."
     ]
    },
    {
     "cell_type": "code",
     "collapsed": true,
     "input": [
      "# your code goes here"
     ],
     "language": "python",
     "metadata": {
      "canopy_exercise": {
       "cell_type": "student_solution"
      }
     },
     "outputs": []
    },
    {
     "cell_type": "markdown",
     "metadata": {
      "canopy_exercise": {
       "cell_type": "solution_button"
      }
     },
     "source": [
      "<div class=\"btn-group\"><button class=\"btn\" onclick=\"IPython.canopy_exercise.toggle_solution('3')\">Solution</button></div>"
     ]
    },
    {
     "cell_type": "code",
     "collapsed": false,
     "input": [
      "message = message.replace(' ', '')\n",
      "message = message.upper()\n",
      "print message"
     ],
     "language": "python",
     "metadata": {
      "canopy_exercise": {
       "cell_type": "solution_view",
       "solution_number": "3"
      }
     },
     "outputs": []
    },
    {
     "cell_type": "markdown",
     "metadata": {
      "canopy_exercise": {
       "cell_type": "question"
      }
     },
     "source": [
      "Question 2\n",
      "----------\n",
      "\n",
      "Just for this message, explore interactively how many \"X\" characters we need to add to the end of the message so that its length is a multiple of 3? Add them. (We will build a generic algorithm to compute the number of \"X\"s at the next question.)"
     ]
    },
    {
     "cell_type": "code",
     "collapsed": true,
     "input": [
      "# your code goes here"
     ],
     "language": "python",
     "metadata": {
      "canopy_exercise": {
       "cell_type": "student_solution"
      }
     },
     "outputs": []
    },
    {
     "cell_type": "markdown",
     "metadata": {
      "canopy_exercise": {
       "cell_type": "solution_button"
      }
     },
     "source": [
      "<div class=\"btn-group\"><button class=\"btn\" onclick=\"IPython.canopy_exercise.toggle_solution('4')\">Solution</button></div>"
     ]
    },
    {
     "cell_type": "code",
     "collapsed": false,
     "input": [
      "print \"Length of message:\", len(message)\n",
      "print \"Number of letters in the last (incomplete) line:\", len(message) % 3\n",
      "padded_message = message + 'X'\n",
      "print \"Message:\", padded_message"
     ],
     "language": "python",
     "metadata": {
      "canopy_exercise": {
       "cell_type": "solution_view",
       "solution_number": "4"
      }
     },
     "outputs": []
    },
    {
     "cell_type": "markdown",
     "metadata": {
      "canopy_exercise": {
       "cell_type": "question"
      }
     },
     "source": [
      "Question 3\n",
      "----------\n",
      "Let's now devise a general expression to compute the number of padding \"X\" characters that will work for any message. Make sure that if there will be 2 characters on the last line, your computation returns 1 and that if there will not be any partial line, the algorithm returns 0."
     ]
    },
    {
     "cell_type": "markdown",
     "metadata": {
      "canopy_exercise": {
       "cell_type": "hint_button"
      }
     },
     "source": [
      "<div class=\"btn-group\"><button class=\"btn\" onclick=\"IPython.canopy_exercise.toggle_hint('7')\">Hint</button></div>"
     ]
    },
    {
     "cell_type": "markdown",
     "metadata": {
      "canopy_exercise": {
       "cell_type": "hint_view",
       "hint_number": "7"
      }
     },
     "source": [
      "The number of letters on the last incomplete line is `len(message) % 3` because the modulo operator `%` gives the remainder when dividing by an integer.  What does `%` do to negative integers in Python?"
     ]
    },
    {
     "cell_type": "code",
     "collapsed": true,
     "input": [
      "# your code goes here"
     ],
     "language": "python",
     "metadata": {
      "canopy_exercise": {
       "cell_type": "student_solution"
      }
     },
     "outputs": []
    },
    {
     "cell_type": "markdown",
     "metadata": {
      "canopy_exercise": {
       "cell_type": "solution_button"
      }
     },
     "source": [
      "<div class=\"btn-group\"><button class=\"btn\" onclick=\"IPython.canopy_exercise.toggle_solution('6')\">Solution</button></div>"
     ]
    },
    {
     "cell_type": "code",
     "collapsed": false,
     "input": [
      "# The most straightfoward way to compute this is using an if \n",
      "# statement\n",
      "remainder = len(message) % 3\n",
      "if remainder != 0:\n",
      "    num_x = 3 - remainder\n",
      "else:\n",
      "    num_x = 0\n",
      "    \n",
      "# A less obvious solution uses the behavior of the modulo operator for \n",
      "# negative numbers\n",
      "num_x = (-len(message)) % 3\n",
      "\n",
      "padding = \"X\" * num_x\n",
      "padded_message = message + padding\n",
      "print \"Message:\", padded_message"
     ],
     "language": "python",
     "metadata": {
      "canopy_exercise": {
       "cell_type": "solution_view",
       "solution_number": "6"
      }
     },
     "outputs": []
    },
    {
     "cell_type": "markdown",
     "metadata": {
      "canopy_exercise": {
       "cell_type": "question"
      }
     },
     "source": [
      "Question 4\n",
      "----------\n",
      "\n",
      "The first would-be column contains the characters at index 0, 3, 6, etc. Use slicing to extract these characters from the padded message without the need to actually make the 2D array of characters displayed in the introduction."
     ]
    },
    {
     "cell_type": "code",
     "collapsed": true,
     "input": [
      "# your code goes here"
     ],
     "language": "python",
     "metadata": {
      "canopy_exercise": {
       "cell_type": "student_solution"
      }
     },
     "outputs": []
    },
    {
     "cell_type": "markdown",
     "metadata": {
      "canopy_exercise": {
       "cell_type": "solution_button"
      }
     },
     "source": [
      "<div class=\"btn-group\"><button class=\"btn\" onclick=\"IPython.canopy_exercise.toggle_solution('7')\">Solution</button></div>"
     ]
    },
    {
     "cell_type": "code",
     "collapsed": false,
     "input": [
      "column_0 = padded_message[::3]\n",
      "print column_0"
     ],
     "language": "python",
     "metadata": {
      "canopy_exercise": {
       "cell_type": "solution_view",
       "solution_number": "7"
      }
     },
     "outputs": []
    },
    {
     "cell_type": "markdown",
     "metadata": {
      "canopy_exercise": {
       "cell_type": "question"
      }
     },
     "source": [
      "Question 5\n",
      "----------\n",
      "\n",
      "Extract the second and third columns using slicing and produce the encoded message. The pattern shown here and at the previous question will be used to build in the subsequent questions a generic function that encodes any message."
     ]
    },
    {
     "cell_type": "code",
     "collapsed": true,
     "input": [
      "# your code goes here"
     ],
     "language": "python",
     "metadata": {
      "canopy_exercise": {
       "cell_type": "student_solution"
      }
     },
     "outputs": []
    },
    {
     "cell_type": "markdown",
     "metadata": {
      "canopy_exercise": {
       "cell_type": "solution_button"
      }
     },
     "source": [
      "<div class=\"btn-group\"><button class=\"btn\" onclick=\"IPython.canopy_exercise.toggle_solution('8')\">Solution</button></div>"
     ]
    },
    {
     "cell_type": "code",
     "collapsed": false,
     "input": [
      "column_1 = padded_message[1::3]\n",
      "column_2 = padded_message[2::3]\n",
      "\n",
      "encoded_message = column_0 + column_1 + column_2\n",
      "print \"Encoded:\", encoded_message"
     ],
     "language": "python",
     "metadata": {
      "canopy_exercise": {
       "cell_type": "solution_view",
       "solution_number": "8"
      }
     },
     "outputs": []
    },
    {
     "cell_type": "markdown",
     "metadata": {
      "canopy_exercise": {
       "cell_type": "question"
      }
     },
     "source": [
      "To decode the encoded message, you would repeat this process, but with 3 rows of length 8 instead of 8 rows of length 3.\n",
      "\n",
      "Question 6\n",
      "----------\n",
      "\n",
      "Re-use the code from previous questions to build a function `encode_column()` which takes 2 arguments (the message to encode and the number of rows) and returns the encoded message. Run the code below to test your function by encoding the original message and decoding the encoded message from question 5."
     ]
    },
    {
     "cell_type": "code",
     "collapsed": true,
     "input": [
      "# your code goes here"
     ],
     "language": "python",
     "metadata": {
      "canopy_exercise": {
       "cell_type": "student_solution"
      }
     },
     "outputs": []
    },
    {
     "cell_type": "markdown",
     "metadata": {
      "canopy_exercise": {
       "cell_type": "solution_button"
      }
     },
     "source": [
      "<div class=\"btn-group\"><button class=\"btn\" onclick=\"IPython.canopy_exercise.toggle_solution('9')\">Solution</button></div>"
     ]
    },
    {
     "cell_type": "code",
     "collapsed": false,
     "input": [
      "def encode_column(message, rows):\n",
      "    \"\"\" Encode message using a column cipher with specified number of rows \"\"\"\n",
      "    message = message.replace(' ', '')\n",
      "    message = message.upper()\n",
      "    # Note: we are using the most compact version to compute the number of X \n",
      "    # characters needed\n",
      "    message += \"X\" * (-len(message) % rows)\n",
      "    # This accumulation could have been done with a 'for' loop instead of a list \n",
      "    # comprehension\n",
      "    columns = [message[i::rows] for i in range(rows)]\n",
      "    encoded_message = ''.join(columns)\n",
      "    return encoded_message"
     ],
     "language": "python",
     "metadata": {
      "canopy_exercise": {
       "cell_type": "solution_view",
       "solution_number": "9"
      }
     },
     "outputs": []
    },
    {
     "cell_type": "code",
     "collapsed": false,
     "input": [
      "# test your function\n",
      "print encode_column(message, 3)\n",
      "print encode_column(encoded_message, 8)"
     ],
     "language": "python",
     "metadata": {
      "canopy_exercise": {
       "cell_type": "starting code"
      }
     },
     "outputs": []
    },
    {
     "cell_type": "markdown",
     "metadata": {
      "canopy_exercise": {
       "cell_type": "question"
      }
     },
     "source": [
      "Question 7\n",
      "----------\n",
      "\n",
      "This question gets you to experiment with the `random` package of the standard library.\n",
      "\n",
      "The cipher strategy given above is very weak because its key, that is the amount of information the decoder needs in order to decode the message is only 1 integer, necessarily smaller than the length of the message. To make it (a little bit) more secure, we could decide that instead of putting the columns back together from left to right, the order is a random permutation of all the column indices. Once some chooses a `row_length` to try, there are still `row_length!` possibilities. For example, assuming that we use rows of length 5, the message `THIS IS A COLUMN CYPHER`:\n",
      "\n",
      "    01234\n",
      "    THISI\n",
      "    SACOL\n",
      "    UMNCY\n",
      "    PHERX\n",
      "\n",
      "being converted to `TSUPHAMHICNESOCRILYX` assumes that the list of column indices is `01234`. But we could have decided to go in reverse order for example, assuming a column order `43210`, which would have led to `ILYXSOCRICNEHAMHTSUP`.\n",
      "\n",
      "Modify your `encode_column` function above, computing a permutation of the column numbers instead of simply grabbing the columns in the original order. To generate these permutations, experiment below with the `shuffle` function of the `random` package from the standard library. The permutation used will need to be returned by the encoding function to be given to the trusted decoder. "
     ]
    },
    {
     "cell_type": "code",
     "collapsed": false,
     "input": [
      "from random import shuffle\n",
      "a = range(10)\n",
      "shuffle(a)\n",
      "print a"
     ],
     "language": "python",
     "metadata": {
      "canopy_exercise": {
       "cell_type": "starting code"
      }
     },
     "outputs": []
    },
    {
     "cell_type": "code",
     "collapsed": true,
     "input": [
      "# your code goes here"
     ],
     "language": "python",
     "metadata": {
      "canopy_exercise": {
       "cell_type": "student_solution"
      }
     },
     "outputs": []
    },
    {
     "cell_type": "markdown",
     "metadata": {
      "canopy_exercise": {
       "cell_type": "solution_button"
      }
     },
     "source": [
      "<div class=\"btn-group\"><button class=\"btn\" onclick=\"IPython.canopy_exercise.toggle_solution('12')\">Solution</button></div>"
     ]
    },
    {
     "cell_type": "code",
     "collapsed": false,
     "input": [
      "def encode_column2(message, rows):\n",
      "    \"\"\" Encode message using a column cipher with random column order with specified number \n",
      "    of rows.\n",
      "    \"\"\"\n",
      "    message = message.replace(' ', '')\n",
      "    message = message.upper()\n",
      "    message += \"X\" * (-len(message) % rows)\n",
      "    # The next 2 lines are the new part. Instead of starting the slicing from the beginning \n",
      "    # and then\n",
      "    column_order = range(rows)\n",
      "    shuffle(column_order)\n",
      "    columns = [message[i::rows] for i in column_order]\n",
      "    encoded_message = ''.join(columns)\n",
      "    return encoded_message, column_order"
     ],
     "language": "python",
     "metadata": {
      "canopy_exercise": {
       "cell_type": "solution_view",
       "solution_number": "12"
      }
     },
     "outputs": []
    },
    {
     "cell_type": "code",
     "collapsed": false,
     "input": [
      "# test your function\n",
      "message = \"THIS IS A COLUMN CYPHER\"\n",
      "encoded_msg, order = encode_column2(message, 5)\n",
      "print \"Encoded message:\", encoded_msg\n",
      "print \"Order:\", order"
     ],
     "language": "python",
     "metadata": {
      "canopy_exercise": {
       "cell_type": "starting code"
      }
     },
     "outputs": []
    }
   ],
   "metadata": {}
  }
 ]
}